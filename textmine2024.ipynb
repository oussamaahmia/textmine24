{
 "cells": [
  {
   "cell_type": "markdown",
   "metadata": {
    "id": "nObrMqa0J3Sd"
   },
   "source": [
    "# CamemBERT"
   ]
  },
  {
   "cell_type": "markdown",
   "metadata": {
    "id": "8h5V7kU-COWR"
   },
   "source": [
    "Installations"
   ]
  },
  {
   "cell_type": "code",
   "execution_count": null,
   "metadata": {
    "colab": {
     "base_uri": "https://localhost:8080/"
    },
    "executionInfo": {
     "elapsed": 45210,
     "status": "ok",
     "timestamp": 1699892353115,
     "user": {
      "displayName": "oussama ahmia",
      "userId": "12256970679156264716"
     },
     "user_tz": -60
    },
    "id": "8tloj54EZtp4",
    "outputId": "8ca357d7-b7a6-4bff-c7ce-1304bc811816"
   },
   "outputs": [],
   "source": [
    "# !pip install sentencepiece\n",
    "# !pip install datasets\n",
    "# !pip install transformers==4.33\n",
    "# !pip install torch\n",
    "# !pip install accelerate -U\n",
    "# !pip install iterative-stratification\n"
   ]
  },
  {
   "cell_type": "markdown",
   "metadata": {
    "id": "HKDf-3rjCUHQ"
   },
   "source": [
    "Chargements"
   ]
  },
  {
   "cell_type": "code",
   "execution_count": null,
   "metadata": {
    "executionInfo": {
     "elapsed": 18028,
     "status": "ok",
     "timestamp": 1699892386283,
     "user": {
      "displayName": "oussama ahmia",
      "userId": "12256970679156264716"
     },
     "user_tz": -60
    },
    "id": "LEALssSPa7jS"
   },
   "outputs": [],
   "source": [
    "import torch\n",
    "import pandas as pd\n",
    "import numpy as np\n",
    "\n",
    "from sklearn.model_selection import train_test_split\n",
    "from sklearn.metrics import classification_report\n",
    "from transformers import AutoTokenizer, AutoModelForTokenClassification, TrainingArguments, Trainer\n",
    "from datasets import Dataset"
   ]
  },
  {
   "cell_type": "code",
   "execution_count": null,
   "metadata": {
    "executionInfo": {
     "elapsed": 250,
     "status": "ok",
     "timestamp": 1699892477630,
     "user": {
      "displayName": "oussama ahmia",
      "userId": "12256970679156264716"
     },
     "user_tz": -60
    },
    "id": "DYiJ1mQTlgBq"
   },
   "outputs": [],
   "source": [
    "label_list = ['aucun', 'geogFeat geogName', 'geogFeat', 'geogName', 'geogName name']"
   ]
  },
  {
   "cell_type": "code",
   "execution_count": null,
   "metadata": {
    "executionInfo": {
     "elapsed": 2,
     "status": "ok",
     "timestamp": 1699892479548,
     "user": {
      "displayName": "oussama ahmia",
      "userId": "12256970679156264716"
     },
     "user_tz": -60
    },
    "id": "2NBpNfo4k3fQ"
   },
   "outputs": [],
   "source": [
    "def get_data(path, annotated=True):\n",
    "    with open(path, 'r', encoding='utf8') as fileio:\n",
    "        lines = fileio.read().strip().split('\\n')\n",
    "        lines.pop(0)\n",
    "\n",
    "    print(len(lines))\n",
    "\n",
    "    annos = []\n",
    "\n",
    "    for line in lines:\n",
    "        _, token, tags = line.split('\"\"\"')\n",
    "        annos.append((token, tags[1:].split()))\n",
    "\n",
    "    data = []\n",
    "    counter = 0\n",
    "    tokens = []\n",
    "    if annotated:\n",
    "        ner_tags = []\n",
    "\n",
    "    for i, (token, tags) in enumerate(annos):\n",
    "        tokens.append(token)\n",
    "        if annotated:\n",
    "            ner_tags.append(' '.join(sorted(tags)))\n",
    "        if token == '.':\n",
    "            if annotated:\n",
    "                data.append({\n",
    "                    'id': counter,\n",
    "                    'tokens': tokens,\n",
    "                    'ner_tags': list(map(lambda x: label_list.index(x), ner_tags))\n",
    "                })\n",
    "            else:\n",
    "                data.append({\n",
    "                    'id': counter,\n",
    "                    'tokens': tokens,\n",
    "                    'ner_tags': [0] * len(tokens)\n",
    "                })\n",
    "\n",
    "            counter += 1\n",
    "            tokens = []\n",
    "            if annotated:\n",
    "                ner_tags = []\n",
    "\n",
    "    if tokens:\n",
    "        if annotated:\n",
    "            data.append({\n",
    "                'id': counter,\n",
    "                'tokens': tokens,\n",
    "                'ner_tags': list(map(lambda x: label_list.index(x), ner_tags))\n",
    "            })\n",
    "        else:\n",
    "            data.append({\n",
    "                'id': counter,\n",
    "                'tokens': tokens,\n",
    "                'ner_tags': [0] * len(tokens)\n",
    "            })\n",
    "\n",
    "    return data\n"
   ]
  },
  {
   "cell_type": "code",
   "execution_count": null,
   "metadata": {
    "colab": {
     "base_uri": "https://localhost:8080/"
    },
    "executionInfo": {
     "elapsed": 429,
     "status": "ok",
     "timestamp": 1699892482292,
     "user": {
      "displayName": "oussama ahmia",
      "userId": "12256970679156264716"
     },
     "user_tz": -60
    },
    "id": "ELf-TNoLCyWZ",
    "outputId": "a0c35717-4df7-42e1-b629-7c5634f78a25"
   },
   "outputs": [],
   "source": [
    "data_ = get_data('train_2.csv')\n",
    "len(data_)"
   ]
  },
  {
   "cell_type": "code",
   "execution_count": null,
   "metadata": {},
   "outputs": [],
   "source": [
    "from iterstrat.ml_stratifiers import MultilabelStratifiedShuffleSplit\n",
    "import numpy as np\n",
    "from sklearn.preprocessing import MultiLabelBinarizer\n",
    "from sklearn.feature_extraction.text import CountVectorizer\n",
    "mlb = MultiLabelBinarizer()\n",
    "cv = CountVectorizer()\n",
    "\n",
    "y = mlb.fit_transform([list(set(i['ner_tags'])) for i in data_])\n",
    "\n",
    "mskf = MultilabelStratifiedShuffleSplit(n_splits=1,random_state=42, test_size=0.05)\n",
    "\n",
    "for train_index, test_index in mskf.split( y,y):\n",
    "  pass\n"
   ]
  },
  {
   "cell_type": "code",
   "execution_count": null,
   "metadata": {},
   "outputs": [],
   "source": [
    "data = Dataset.from_list(data_)"
   ]
  },
  {
   "cell_type": "code",
   "execution_count": null,
   "metadata": {
    "executionInfo": {
     "elapsed": 227,
     "status": "ok",
     "timestamp": 1699901610612,
     "user": {
      "displayName": "oussama ahmia",
      "userId": "12256970679156264716"
     },
     "user_tz": -60
    },
    "id": "AEHbWZbiC8m4"
   },
   "outputs": [],
   "source": [
    "# train, test = train_test_split(data, test_size=0.1, random_state=42)\n",
    "train_dataset = Dataset.from_dict(data[train_index])\n",
    "test_dataset = Dataset.from_dict(data[test_index])"
   ]
  },
  {
   "cell_type": "markdown",
   "metadata": {
    "id": "1slaoIyTCecW"
   },
   "source": [
    "Choix du modèle"
   ]
  },
  {
   "cell_type": "code",
   "execution_count": null,
   "metadata": {
    "executionInfo": {
     "elapsed": 260,
     "status": "ok",
     "timestamp": 1699901617575,
     "user": {
      "displayName": "oussama ahmia",
      "userId": "12256970679156264716"
     },
     "user_tz": -60
    },
    "id": "v4PuNkwclJiO"
   },
   "outputs": [],
   "source": [
    "mdl = \"camembert-base\""
   ]
  },
  {
   "cell_type": "markdown",
   "metadata": {
    "id": "lSNPR1JuCglO"
   },
   "source": [
    "Choix device"
   ]
  },
  {
   "cell_type": "code",
   "execution_count": null,
   "metadata": {
    "executionInfo": {
     "elapsed": 232,
     "status": "ok",
     "timestamp": 1699892509473,
     "user": {
      "displayName": "oussama ahmia",
      "userId": "12256970679156264716"
     },
     "user_tz": -60
    },
    "id": "bEo4T2gllNVH"
   },
   "outputs": [],
   "source": [
    "device = torch.device(\"cuda:0\")"
   ]
  },
  {
   "cell_type": "markdown",
   "metadata": {
    "id": "TQt3JBlyGkip"
   },
   "source": [
    "Tokenizer"
   ]
  },
  {
   "cell_type": "code",
   "execution_count": null,
   "metadata": {
    "executionInfo": {
     "elapsed": 290,
     "status": "ok",
     "timestamp": 1699892511949,
     "user": {
      "displayName": "oussama ahmia",
      "userId": "12256970679156264716"
     },
     "user_tz": -60
    },
    "id": "gqhn-pmRgpvZ"
   },
   "outputs": [],
   "source": [
    "def tokenize_and_align_labels(examples):\n",
    "    tokenized_inputs = tokenizer(examples[\"tokens\"], truncation=True, is_split_into_words=True, padding=\"max_length\", max_length=512)\n",
    "\n",
    "    labels = []\n",
    "    word_idss = []\n",
    "    for i, label in enumerate(examples[f\"ner_tags\"]):\n",
    "        word_ids = tokenized_inputs.word_ids(batch_index=i)  # Map tokens to their respective word.\n",
    "        previous_word_idx = None\n",
    "        label_ids = []\n",
    "        for word_idx in word_ids:  # Set the special tokens to -100.\n",
    "            if word_idx is None:\n",
    "                label_ids.append(4)\n",
    "            elif word_idx != previous_word_idx:  # Only label the first token of a given word.\n",
    "                label_ids.append(label[word_idx])\n",
    "            else:\n",
    "                label_ids.append(label[previous_word_idx])\n",
    "                # label_ids.append(-100)\n",
    "            previous_word_idx = word_idx\n",
    "        labels.append(label_ids)\n",
    "        word_idss.append(word_ids)\n",
    "\n",
    "    tokenized_inputs[\"labels\"] = labels\n",
    "    tokenized_inputs['word_ids'] = word_idss\n",
    "    return tokenized_inputs"
   ]
  },
  {
   "cell_type": "code",
   "execution_count": null,
   "metadata": {
    "colab": {
     "base_uri": "https://localhost:8080/",
     "height": 113,
     "referenced_widgets": [
      "c29aed2720a04e34aaad1162a477c974",
      "e4f14d9d53e64189bdf43f6c963b5e5d",
      "1711bb69d530443f9eaecdfe58ffd3be",
      "c7c4cc06897a4249aed36e75fa218801",
      "8d6115490d5c4b15a650c4edc49706f7",
      "a89f890fe4674423aace8a9fcbcf22d0",
      "2cc9a7c825fe4dfabaa5987d5b2185ca",
      "63cb43eed0db445e92a57bab166f0132",
      "c0385e29eb6449e791827ebb88855837",
      "a0a109f89ba14dce9fab2b650f26823e",
      "49af6dd20e5144769ec8a78f38e40365",
      "ed3e11e4509d41508f164dc98d7f7ef9",
      "4406269da17745e6a862bb076cf6b19d",
      "8c3d333944f84bac8361bfeb337cf5f7",
      "28c85f274bd547118ec0dcfac70c91e6",
      "c25e84afa0ca4d70ae54df8c0350e4d9",
      "e9be95cc26fa4ab99326acf02ff2b909",
      "3be18558717a4fd3836d31ca309a5a9c",
      "16c9a1e8b0e8441880d96120f5ddd691",
      "468edb12bd444a8da3208c02ad12b616",
      "525764c2a9954a22aab7d12bd4c2bf15",
      "0c7876d041b340e9b4e8a2736b6a9b64",
      "876aa9be29d649b688a9288180c523fb",
      "1407b44757b94dedbd3b51dd36375ad0",
      "66d5d8927bdd45449287313a9e3d77de",
      "f9cce8e5f8e346c4baaddfd2ffdd3fa3",
      "853e292a383f436290bd0601f13a558f",
      "00d27a679bf84b58a91f19843759a0f7",
      "7c01add9bf684044b9615f642ae28f4a",
      "0ff5245a26804d5c951980096aac9fca",
      "fee94ef7ea45486b84ac7ce16fc7d9e2",
      "a2386e2492d6413cb3fff1d6c5e72c35",
      "7ed14e7392124c4b9dd1bce859b839ee"
     ]
    },
    "executionInfo": {
     "elapsed": 1329,
     "status": "ok",
     "timestamp": 1699892514407,
     "user": {
      "displayName": "oussama ahmia",
      "userId": "12256970679156264716"
     },
     "user_tz": -60
    },
    "id": "fEp-ue3MgsfG",
    "outputId": "a9418100-c3f6-4b08-fb1f-c55603023d34"
   },
   "outputs": [],
   "source": [
    "tokenizer = AutoTokenizer.from_pretrained(mdl)\n",
    "# data_collator = DataCollatorForTokenClassification(tokenizer=tokenizer,padding=True)"
   ]
  },
  {
   "cell_type": "code",
   "execution_count": null,
   "metadata": {
    "colab": {
     "base_uri": "https://localhost:8080/",
     "height": 81,
     "referenced_widgets": [
      "32f75c7619e74351995f7236140b553c",
      "c25d65df1f8a404a839c5872a35ac25d",
      "5e05d7cc377a4e2c854ab198fafdd03e",
      "5c859835429c4749866255f6a0d73575",
      "5fe8d3de77d044febbb8991dc0959429",
      "86dfaa32de3345bfb6d7d75a6af2a193",
      "9f0f3c578860463a863a4146a70cef61",
      "fac24d9e9c5848daa5810ae20add58c1",
      "03520b7a03654fc2a194b274659a8f9f",
      "4d5c326671b64bc081673541a3f00170",
      "c52b888921f54c849335b62aae2f6ac5",
      "81dd557a30ac41ee98d09a0d63aa5331",
      "29fdff2a2260418398c2d83703f118e9",
      "7ea6fb428f7f47adacb54dcdee64f0b1",
      "ab8f42ccdbcc4f0591106488f9047894",
      "baa23277d6684068abaee8ca6216de08",
      "9ae41f9b91484878b0fc923d5a738884",
      "888263c1425e4ae0bcf1750ed633a946",
      "dcf225efb10248b8a6ae9ca04ded3eff",
      "e1b6b53aac884d8daedffdc4b3d1c4c0",
      "c5687712cb0441df950c0fafb050ecb1",
      "09ff619381b34ec2affb73cc3fe2a221"
     ]
    },
    "executionInfo": {
     "elapsed": 1755,
     "status": "ok",
     "timestamp": 1699901629995,
     "user": {
      "displayName": "oussama ahmia",
      "userId": "12256970679156264716"
     },
     "user_tz": -60
    },
    "id": "YNIwqJ18g0b1",
    "outputId": "8063247c-8bb8-41af-b77d-7066d8047f9e"
   },
   "outputs": [],
   "source": [
    "tokenized_dataset = data.map(tokenize_and_align_labels, batched=True)\n",
    "tokenized_train_dataset = train_dataset.map(tokenize_and_align_labels, batched=True)\n",
    "tokenized_test_dataset = test_dataset.map(tokenize_and_align_labels, batched=True)"
   ]
  },
  {
   "cell_type": "code",
   "execution_count": null,
   "metadata": {
    "colab": {
     "base_uri": "https://localhost:8080/"
    },
    "executionInfo": {
     "elapsed": 256,
     "status": "ok",
     "timestamp": 1699901634158,
     "user": {
      "displayName": "oussama ahmia",
      "userId": "12256970679156264716"
     },
     "user_tz": -60
    },
    "id": "FgcCD25WhAUD",
    "outputId": "fcb30a4c-50a2-4dc7-b11e-2fd68f2fa983"
   },
   "outputs": [],
   "source": [
    "len(tokenized_dataset[0]['labels']) == len(tokenized_dataset[0]['input_ids'])"
   ]
  },
  {
   "cell_type": "code",
   "execution_count": null,
   "metadata": {},
   "outputs": [],
   "source": [
    "tokenized_dataset\n",
    "['id', 'tokens', 'ner_tags', 'input_ids', 'attention_mask', 'labels', 'word_ids']\n",
    "tokenized_dataset[1]['labels'][:10],tokenized_dataset[1]['input_ids'][:10]"
   ]
  },
  {
   "cell_type": "markdown",
   "metadata": {
    "id": "p-QsJfgpDzaZ"
   },
   "source": [
    "## train"
   ]
  },
  {
   "cell_type": "markdown",
   "metadata": {
    "id": "9FZABbkvHIcu"
   },
   "source": [
    "Chargement du modèle et paramètres pour classif"
   ]
  },
  {
   "cell_type": "code",
   "execution_count": null,
   "metadata": {},
   "outputs": [],
   "source": [
    "model = AutoModelForTokenClassification.from_pretrained(mdl, num_labels = len(label_list)).to(device)\n"
   ]
  },
  {
   "cell_type": "code",
   "execution_count": null,
   "metadata": {
    "colab": {
     "base_uri": "https://localhost:8080/"
    },
    "executionInfo": {
     "elapsed": 4133,
     "status": "ok",
     "timestamp": 1699902441964,
     "user": {
      "displayName": "oussama ahmia",
      "userId": "12256970679156264716"
     },
     "user_tz": -60
    },
    "id": "IiWhsk4OlzWI",
    "outputId": "c04313cf-ac05-4bab-89ea-0fbb0dd6879c"
   },
   "outputs": [],
   "source": [
    "\n",
    "training_args = TrainingArguments(\n",
    "    output_dir=\"test_trainer\",\n",
    "    evaluation_strategy=\"steps\",\n",
    "    num_train_epochs=30,\n",
    "    learning_rate=1e-4,\n",
    "    per_device_train_batch_size=8,\n",
    "    metric_for_best_model='eval_loss',\n",
    "    load_best_model_at_end=True,\n",
    "    save_total_limit=5,\n",
    "    save_steps=100,\n",
    "    eval_steps=100,\n",
    "    seed=42\n",
    "    )\n"
   ]
  },
  {
   "cell_type": "code",
   "execution_count": null,
   "metadata": {},
   "outputs": [],
   "source": [
    "\n",
    "# trainer = Trainer(\n",
    "#     model=model,\n",
    "#     args=training_args,\n",
    "#     train_dataset=Dataset.from_dict(tokenized_dataset[train_index]),\n",
    "#     eval_dataset=Dataset.from_dict(tokenized_dataset[test_index])\n",
    "# )\n",
    "\n",
    "\n",
    "trainer = Trainer(\n",
    "    model=model,\n",
    "    args=training_args,\n",
    "    train_dataset=Dataset.from_dict(tokenized_dataset),\n",
    "    eval_dataset=Dataset.from_dict(tokenized_dataset)\n",
    ")"
   ]
  },
  {
   "cell_type": "markdown",
   "metadata": {
    "id": "hFFuO_s-HXyO"
   },
   "source": [
    "Apprentissage (fine tuning)"
   ]
  },
  {
   "cell_type": "code",
   "execution_count": null,
   "metadata": {
    "colab": {
     "base_uri": "https://localhost:8080/",
     "height": 1000
    },
    "executionInfo": {
     "elapsed": 8542564,
     "status": "ok",
     "timestamp": 1699910990063,
     "user": {
      "displayName": "oussama ahmia",
      "userId": "12256970679156264716"
     },
     "user_tz": -60
    },
    "id": "i3Z2A7oDmKoh",
    "outputId": "00f4cf73-2a6e-4d14-8ef4-2f260fd1a558"
   },
   "outputs": [],
   "source": [
    "trainer.train()"
   ]
  },
  {
   "cell_type": "markdown",
   "metadata": {
    "id": "vDlwqO6JLMhF"
   },
   "source": [
    "Prédiction du jeu de test"
   ]
  },
  {
   "cell_type": "code",
   "execution_count": null,
   "metadata": {
    "executionInfo": {
     "elapsed": 220,
     "status": "ok",
     "timestamp": 1699911048313,
     "user": {
      "displayName": "oussama ahmia",
      "userId": "12256970679156264716"
     },
     "user_tz": -60
    },
    "id": "Uka6l_XsODID"
   },
   "outputs": [],
   "source": [
    "from pprint import pprint\n",
    "from collections import Counter\n",
    "\n",
    "def read_preds(y_pred, word_idss):\n",
    "    preds = []\n",
    "    need_print = False\n",
    "    for y, word_ids in zip(y_pred, word_idss):\n",
    "        if need_print:\n",
    "            pprint(list(map(lambda x: label_list[x], pred)))\n",
    "            need_print = False\n",
    "        pred = []\n",
    "        previous_tag = None\n",
    "        previous_idx = -1\n",
    "        need_vote = False\n",
    "        votes = []\n",
    "        for tag, idx in zip(y, word_ids):\n",
    "            if idx != None:\n",
    "                if idx != previous_idx:\n",
    "                    if need_vote:\n",
    "                        c = Counter(votes)\n",
    "                        common = c.most_common(1)[0]\n",
    "                        if pred[-1] != common[0] and common[1] != 1:\n",
    "                            pred[-1] = common[0]\n",
    "                    need_vote = False\n",
    "                    votes = []\n",
    "                    pred.append(tag)\n",
    "                    previous_idx = idx\n",
    "                    previous_tag = tag\n",
    "                else:\n",
    "                    votes.append(previous_tag)\n",
    "        preds.append(pred)\n",
    "\n",
    "    return preds"
   ]
  },
  {
   "cell_type": "code",
   "execution_count": null,
   "metadata": {
    "colab": {
     "base_uri": "https://localhost:8080/",
     "height": 208
    },
    "executionInfo": {
     "elapsed": 52168,
     "status": "ok",
     "timestamp": 1699911102194,
     "user": {
      "displayName": "oussama ahmia",
      "userId": "12256970679156264716"
     },
     "user_tz": -60
    },
    "id": "VMbNHYTyMHvx",
    "outputId": "ed315c2d-f1cd-487b-af30-79d32d04e7ac"
   },
   "outputs": [],
   "source": [
    "y_pred = trainer.predict(tokenized_test_dataset).predictions.argmax(axis=-1)\n",
    "y_true = tokenized_test_dataset['labels']\n",
    "preds = read_preds(y_pred, tokenized_test_dataset['word_ids'])\n",
    "preds_flat = [label_list[p] for pred in preds for p in pred]\n",
    "trues = read_preds(y_true, tokenized_test_dataset['word_ids'])\n",
    "trues_flat = [label_list[t] for true in trues for t in true]\n",
    "print(classification_report(trues_flat, preds_flat, digits=3, labels=label_list))"
   ]
  },
  {
   "cell_type": "code",
   "execution_count": null,
   "metadata": {
    "executionInfo": {
     "elapsed": 216,
     "status": "ok",
     "timestamp": 1699911121493,
     "user": {
      "displayName": "oussama ahmia",
      "userId": "12256970679156264716"
     },
     "user_tz": -60
    },
    "id": "3tSVKkJnQCW6"
   },
   "outputs": [],
   "source": [
    "fileio = open(f'{mdl}.test.conll', 'w', encoding='utf8')\n",
    "\n",
    "for true, pred, tokens in zip(trues, preds, test_dataset['tokens']):\n",
    "    for t, p, token in zip(true, pred, tokens):\n",
    "        fileio.write(f'{token} {label_list[p]} {label_list[t]}\\n')\n",
    "    fileio.write('\\n')\n",
    "\n",
    "fileio.close()"
   ]
  },
  {
   "cell_type": "markdown",
   "metadata": {
    "id": "cxdw7_pq1uOf"
   },
   "source": [
    "## eval"
   ]
  },
  {
   "cell_type": "code",
   "execution_count": null,
   "metadata": {
    "colab": {
     "base_uri": "https://localhost:8080/"
    },
    "executionInfo": {
     "elapsed": 215,
     "status": "ok",
     "timestamp": 1699911124625,
     "user": {
      "displayName": "oussama ahmia",
      "userId": "12256970679156264716"
     },
     "user_tz": -60
    },
    "id": "pwTScnhi1tou",
    "outputId": "1727d7b8-9640-4a5d-d778-573f1f156bd4"
   },
   "outputs": [],
   "source": [
    "eval = get_data('test.csv', annotated=False)\n",
    "len(eval)"
   ]
  },
  {
   "cell_type": "code",
   "execution_count": null,
   "metadata": {
    "colab": {
     "base_uri": "https://localhost:8080/",
     "height": 49,
     "referenced_widgets": [
      "2bc86e81bb024d8581b11039890722de",
      "3cf5de22a88f49e69f31c46b6fb41977",
      "ffaa7fa906e74fc598075f4f0bc31267",
      "2cebc68473d34967b8659ab97611a6b3",
      "d61c9147467c4922a4791962797232eb",
      "ee0bdee7097f4ee09843b4d473cc0a9b",
      "3050112b56214c41a3cc493ad8b40aad",
      "79d88ebc12224cc89eca510ed7fc3617",
      "2cfedc4e30a44161a2eed77b22449a51",
      "467ee4f7537d4ea18557e5beaf436125",
      "c1a7ebf880754fe083682a7ebd87753a"
     ]
    },
    "executionInfo": {
     "elapsed": 753,
     "status": "ok",
     "timestamp": 1699911126373,
     "user": {
      "displayName": "oussama ahmia",
      "userId": "12256970679156264716"
     },
     "user_tz": -60
    },
    "id": "O1Mul-Kx2Bm1",
    "outputId": "f8ba6937-d00e-4592-f3f2-9b949c1647b1"
   },
   "outputs": [],
   "source": [
    "eval_dataset = Dataset.from_list(eval)\n",
    "tokenized_eval_dataset = eval_dataset.map(tokenize_and_align_labels, batched=True)"
   ]
  },
  {
   "cell_type": "code",
   "execution_count": null,
   "metadata": {
    "colab": {
     "base_uri": "https://localhost:8080/",
     "height": 17
    },
    "executionInfo": {
     "elapsed": 32127,
     "status": "ok",
     "timestamp": 1699911158499,
     "user": {
      "displayName": "oussama ahmia",
      "userId": "12256970679156264716"
     },
     "user_tz": -60
    },
    "id": "xGB2X9T51tyG",
    "outputId": "41d567c6-574e-406b-fb44-e028f22f687d"
   },
   "outputs": [],
   "source": [
    "y_pred = trainer.predict(tokenized_eval_dataset).predictions.argmax(axis=-1)\n",
    "preds = read_preds(y_pred, tokenized_eval_dataset['word_ids'])"
   ]
  },
  {
   "cell_type": "code",
   "execution_count": null,
   "metadata": {},
   "outputs": [],
   "source": [
    "import pandas as pd"
   ]
  },
  {
   "cell_type": "code",
   "execution_count": null,
   "metadata": {
    "colab": {
     "base_uri": "https://localhost:8080/"
    },
    "executionInfo": {
     "elapsed": 215,
     "status": "ok",
     "timestamp": 1699911174014,
     "user": {
      "displayName": "oussama ahmia",
      "userId": "12256970679156264716"
     },
     "user_tz": -60
    },
    "id": "aykfAxE14gV3",
    "outputId": "3881217c-8f1b-42bf-8dc9-46d0c90cf7f5"
   },
   "outputs": [],
   "source": [
    "from itertools import chain\n",
    "\n",
    "labels = list(map(lambda x: label_list[x], chain.from_iterable(preds)))\n",
    "res = [f\"{i},{label}\" for i, label in enumerate(labels)]\n",
    "res.insert(0, \"Id,Label\")\n",
    "len(res)"
   ]
  },
  {
   "cell_type": "code",
   "execution_count": null,
   "metadata": {},
   "outputs": [],
   "source": [
    "mdl"
   ]
  },
  {
   "cell_type": "code",
   "execution_count": null,
   "metadata": {
    "executionInfo": {
     "elapsed": 2,
     "status": "ok",
     "timestamp": 1699911174703,
     "user": {
      "displayName": "oussama ahmia",
      "userId": "12256970679156264716"
     },
     "user_tz": -60
    },
    "id": "g8lJDbe3390e"
   },
   "outputs": [],
   "source": [
    "with open(f'{mdl}.csv', 'w', encoding='utf8', newline='\\n') as fileio:\n",
    "    fileio.write(\"\\n\".join(res))\n",
    "\n"
   ]
  },
  {
   "cell_type": "code",
   "execution_count": null,
   "metadata": {},
   "outputs": [],
   "source": []
  }
 ],
 "metadata": {
  "accelerator": "GPU",
  "colab": {
   "provenance": [
    {
     "file_id": "11WP1eqSowTr0zI2WpyF86Q6H1soN2K6Z",
     "timestamp": 1699630297532
    },
    {
     "file_id": "1WziDAx5jIq679zjBxSlK9XpMW5UrAZ-X",
     "timestamp": 1698140059509
    },
    {
     "file_id": "1owLpVZln7wszZu5Q_J83a1O3RtJPS5E6",
     "timestamp": 1678099561079
    },
    {
     "file_id": "1LuYlxHkGpBmcgErlojNs6SJPsxd2zz96",
     "timestamp": 1666773270476
    },
    {
     "file_id": "1XptNCV0qJvms76wxJpqNfQo5gJoAmVSO",
     "timestamp": 1666095137994
    }
   ]
  },
  "kernelspec": {
   "display_name": "Python 3 (ipykernel)",
   "language": "python",
   "name": "python3"
  },
  "language_info": {
   "codemirror_mode": {
    "name": "ipython",
    "version": 3
   },
   "file_extension": ".py",
   "mimetype": "text/x-python",
   "name": "python",
   "nbconvert_exporter": "python",
   "pygments_lexer": "ipython3",
   "version": "3.8.10"
  },
  "widgets": {
   "application/vnd.jupyter.widget-state+json": {
    "00d27a679bf84b58a91f19843759a0f7": {
     "model_module": "@jupyter-widgets/base",
     "model_module_version": "1.2.0",
     "model_name": "LayoutModel",
     "state": {
      "_model_module": "@jupyter-widgets/base",
      "_model_module_version": "1.2.0",
      "_model_name": "LayoutModel",
      "_view_count": null,
      "_view_module": "@jupyter-widgets/base",
      "_view_module_version": "1.2.0",
      "_view_name": "LayoutView",
      "align_content": null,
      "align_items": null,
      "align_self": null,
      "border": null,
      "bottom": null,
      "display": null,
      "flex": null,
      "flex_flow": null,
      "grid_area": null,
      "grid_auto_columns": null,
      "grid_auto_flow": null,
      "grid_auto_rows": null,
      "grid_column": null,
      "grid_gap": null,
      "grid_row": null,
      "grid_template_areas": null,
      "grid_template_columns": null,
      "grid_template_rows": null,
      "height": null,
      "justify_content": null,
      "justify_items": null,
      "left": null,
      "margin": null,
      "max_height": null,
      "max_width": null,
      "min_height": null,
      "min_width": null,
      "object_fit": null,
      "object_position": null,
      "order": null,
      "overflow": null,
      "overflow_x": null,
      "overflow_y": null,
      "padding": null,
      "right": null,
      "top": null,
      "visibility": null,
      "width": null
     }
    },
    "03520b7a03654fc2a194b274659a8f9f": {
     "model_module": "@jupyter-widgets/controls",
     "model_module_version": "1.5.0",
     "model_name": "ProgressStyleModel",
     "state": {
      "_model_module": "@jupyter-widgets/controls",
      "_model_module_version": "1.5.0",
      "_model_name": "ProgressStyleModel",
      "_view_count": null,
      "_view_module": "@jupyter-widgets/base",
      "_view_module_version": "1.2.0",
      "_view_name": "StyleView",
      "bar_color": null,
      "description_width": ""
     }
    },
    "09ff619381b34ec2affb73cc3fe2a221": {
     "model_module": "@jupyter-widgets/controls",
     "model_module_version": "1.5.0",
     "model_name": "DescriptionStyleModel",
     "state": {
      "_model_module": "@jupyter-widgets/controls",
      "_model_module_version": "1.5.0",
      "_model_name": "DescriptionStyleModel",
      "_view_count": null,
      "_view_module": "@jupyter-widgets/base",
      "_view_module_version": "1.2.0",
      "_view_name": "StyleView",
      "description_width": ""
     }
    },
    "0c7876d041b340e9b4e8a2736b6a9b64": {
     "model_module": "@jupyter-widgets/controls",
     "model_module_version": "1.5.0",
     "model_name": "DescriptionStyleModel",
     "state": {
      "_model_module": "@jupyter-widgets/controls",
      "_model_module_version": "1.5.0",
      "_model_name": "DescriptionStyleModel",
      "_view_count": null,
      "_view_module": "@jupyter-widgets/base",
      "_view_module_version": "1.2.0",
      "_view_name": "StyleView",
      "description_width": ""
     }
    },
    "0ff5245a26804d5c951980096aac9fca": {
     "model_module": "@jupyter-widgets/base",
     "model_module_version": "1.2.0",
     "model_name": "LayoutModel",
     "state": {
      "_model_module": "@jupyter-widgets/base",
      "_model_module_version": "1.2.0",
      "_model_name": "LayoutModel",
      "_view_count": null,
      "_view_module": "@jupyter-widgets/base",
      "_view_module_version": "1.2.0",
      "_view_name": "LayoutView",
      "align_content": null,
      "align_items": null,
      "align_self": null,
      "border": null,
      "bottom": null,
      "display": null,
      "flex": null,
      "flex_flow": null,
      "grid_area": null,
      "grid_auto_columns": null,
      "grid_auto_flow": null,
      "grid_auto_rows": null,
      "grid_column": null,
      "grid_gap": null,
      "grid_row": null,
      "grid_template_areas": null,
      "grid_template_columns": null,
      "grid_template_rows": null,
      "height": null,
      "justify_content": null,
      "justify_items": null,
      "left": null,
      "margin": null,
      "max_height": null,
      "max_width": null,
      "min_height": null,
      "min_width": null,
      "object_fit": null,
      "object_position": null,
      "order": null,
      "overflow": null,
      "overflow_x": null,
      "overflow_y": null,
      "padding": null,
      "right": null,
      "top": null,
      "visibility": null,
      "width": null
     }
    },
    "1407b44757b94dedbd3b51dd36375ad0": {
     "model_module": "@jupyter-widgets/controls",
     "model_module_version": "1.5.0",
     "model_name": "HTMLModel",
     "state": {
      "_dom_classes": [],
      "_model_module": "@jupyter-widgets/controls",
      "_model_module_version": "1.5.0",
      "_model_name": "HTMLModel",
      "_view_count": null,
      "_view_module": "@jupyter-widgets/controls",
      "_view_module_version": "1.5.0",
      "_view_name": "HTMLView",
      "description": "",
      "description_tooltip": null,
      "layout": "IPY_MODEL_00d27a679bf84b58a91f19843759a0f7",
      "placeholder": "​",
      "style": "IPY_MODEL_7c01add9bf684044b9615f642ae28f4a",
      "value": "(…)membert-base/resolve/main/tokenizer.json: 100%"
     }
    },
    "16c9a1e8b0e8441880d96120f5ddd691": {
     "model_module": "@jupyter-widgets/base",
     "model_module_version": "1.2.0",
     "model_name": "LayoutModel",
     "state": {
      "_model_module": "@jupyter-widgets/base",
      "_model_module_version": "1.2.0",
      "_model_name": "LayoutModel",
      "_view_count": null,
      "_view_module": "@jupyter-widgets/base",
      "_view_module_version": "1.2.0",
      "_view_name": "LayoutView",
      "align_content": null,
      "align_items": null,
      "align_self": null,
      "border": null,
      "bottom": null,
      "display": null,
      "flex": null,
      "flex_flow": null,
      "grid_area": null,
      "grid_auto_columns": null,
      "grid_auto_flow": null,
      "grid_auto_rows": null,
      "grid_column": null,
      "grid_gap": null,
      "grid_row": null,
      "grid_template_areas": null,
      "grid_template_columns": null,
      "grid_template_rows": null,
      "height": null,
      "justify_content": null,
      "justify_items": null,
      "left": null,
      "margin": null,
      "max_height": null,
      "max_width": null,
      "min_height": null,
      "min_width": null,
      "object_fit": null,
      "object_position": null,
      "order": null,
      "overflow": null,
      "overflow_x": null,
      "overflow_y": null,
      "padding": null,
      "right": null,
      "top": null,
      "visibility": null,
      "width": null
     }
    },
    "1711bb69d530443f9eaecdfe58ffd3be": {
     "model_module": "@jupyter-widgets/controls",
     "model_module_version": "1.5.0",
     "model_name": "FloatProgressModel",
     "state": {
      "_dom_classes": [],
      "_model_module": "@jupyter-widgets/controls",
      "_model_module_version": "1.5.0",
      "_model_name": "FloatProgressModel",
      "_view_count": null,
      "_view_module": "@jupyter-widgets/controls",
      "_view_module_version": "1.5.0",
      "_view_name": "ProgressView",
      "bar_style": "success",
      "description": "",
      "description_tooltip": null,
      "layout": "IPY_MODEL_63cb43eed0db445e92a57bab166f0132",
      "max": 508,
      "min": 0,
      "orientation": "horizontal",
      "style": "IPY_MODEL_c0385e29eb6449e791827ebb88855837",
      "value": 508
     }
    },
    "28c85f274bd547118ec0dcfac70c91e6": {
     "model_module": "@jupyter-widgets/controls",
     "model_module_version": "1.5.0",
     "model_name": "HTMLModel",
     "state": {
      "_dom_classes": [],
      "_model_module": "@jupyter-widgets/controls",
      "_model_module_version": "1.5.0",
      "_model_name": "HTMLModel",
      "_view_count": null,
      "_view_module": "@jupyter-widgets/controls",
      "_view_module_version": "1.5.0",
      "_view_name": "HTMLView",
      "description": "",
      "description_tooltip": null,
      "layout": "IPY_MODEL_525764c2a9954a22aab7d12bd4c2bf15",
      "placeholder": "​",
      "style": "IPY_MODEL_0c7876d041b340e9b4e8a2736b6a9b64",
      "value": " 811k/811k [00:00&lt;00:00, 5.70MB/s]"
     }
    },
    "29fdff2a2260418398c2d83703f118e9": {
     "model_module": "@jupyter-widgets/controls",
     "model_module_version": "1.5.0",
     "model_name": "HTMLModel",
     "state": {
      "_dom_classes": [],
      "_model_module": "@jupyter-widgets/controls",
      "_model_module_version": "1.5.0",
      "_model_name": "HTMLModel",
      "_view_count": null,
      "_view_module": "@jupyter-widgets/controls",
      "_view_module_version": "1.5.0",
      "_view_name": "HTMLView",
      "description": "",
      "description_tooltip": null,
      "layout": "IPY_MODEL_9ae41f9b91484878b0fc923d5a738884",
      "placeholder": "​",
      "style": "IPY_MODEL_888263c1425e4ae0bcf1750ed633a946",
      "value": "Map: 100%"
     }
    },
    "2bc86e81bb024d8581b11039890722de": {
     "model_module": "@jupyter-widgets/controls",
     "model_module_version": "1.5.0",
     "model_name": "HBoxModel",
     "state": {
      "_dom_classes": [],
      "_model_module": "@jupyter-widgets/controls",
      "_model_module_version": "1.5.0",
      "_model_name": "HBoxModel",
      "_view_count": null,
      "_view_module": "@jupyter-widgets/controls",
      "_view_module_version": "1.5.0",
      "_view_name": "HBoxView",
      "box_style": "",
      "children": [
       "IPY_MODEL_3cf5de22a88f49e69f31c46b6fb41977",
       "IPY_MODEL_ffaa7fa906e74fc598075f4f0bc31267",
       "IPY_MODEL_2cebc68473d34967b8659ab97611a6b3"
      ],
      "layout": "IPY_MODEL_d61c9147467c4922a4791962797232eb"
     }
    },
    "2cc9a7c825fe4dfabaa5987d5b2185ca": {
     "model_module": "@jupyter-widgets/controls",
     "model_module_version": "1.5.0",
     "model_name": "DescriptionStyleModel",
     "state": {
      "_model_module": "@jupyter-widgets/controls",
      "_model_module_version": "1.5.0",
      "_model_name": "DescriptionStyleModel",
      "_view_count": null,
      "_view_module": "@jupyter-widgets/base",
      "_view_module_version": "1.2.0",
      "_view_name": "StyleView",
      "description_width": ""
     }
    },
    "2cebc68473d34967b8659ab97611a6b3": {
     "model_module": "@jupyter-widgets/controls",
     "model_module_version": "1.5.0",
     "model_name": "HTMLModel",
     "state": {
      "_dom_classes": [],
      "_model_module": "@jupyter-widgets/controls",
      "_model_module_version": "1.5.0",
      "_model_name": "HTMLModel",
      "_view_count": null,
      "_view_module": "@jupyter-widgets/controls",
      "_view_module_version": "1.5.0",
      "_view_name": "HTMLView",
      "description": "",
      "description_tooltip": null,
      "layout": "IPY_MODEL_467ee4f7537d4ea18557e5beaf436125",
      "placeholder": "​",
      "style": "IPY_MODEL_c1a7ebf880754fe083682a7ebd87753a",
      "value": " 1048/1048 [00:00&lt;00:00, 2084.65 examples/s]"
     }
    },
    "2cfedc4e30a44161a2eed77b22449a51": {
     "model_module": "@jupyter-widgets/controls",
     "model_module_version": "1.5.0",
     "model_name": "ProgressStyleModel",
     "state": {
      "_model_module": "@jupyter-widgets/controls",
      "_model_module_version": "1.5.0",
      "_model_name": "ProgressStyleModel",
      "_view_count": null,
      "_view_module": "@jupyter-widgets/base",
      "_view_module_version": "1.2.0",
      "_view_name": "StyleView",
      "bar_color": null,
      "description_width": ""
     }
    },
    "3050112b56214c41a3cc493ad8b40aad": {
     "model_module": "@jupyter-widgets/controls",
     "model_module_version": "1.5.0",
     "model_name": "DescriptionStyleModel",
     "state": {
      "_model_module": "@jupyter-widgets/controls",
      "_model_module_version": "1.5.0",
      "_model_name": "DescriptionStyleModel",
      "_view_count": null,
      "_view_module": "@jupyter-widgets/base",
      "_view_module_version": "1.2.0",
      "_view_name": "StyleView",
      "description_width": ""
     }
    },
    "32f75c7619e74351995f7236140b553c": {
     "model_module": "@jupyter-widgets/controls",
     "model_module_version": "1.5.0",
     "model_name": "HBoxModel",
     "state": {
      "_dom_classes": [],
      "_model_module": "@jupyter-widgets/controls",
      "_model_module_version": "1.5.0",
      "_model_name": "HBoxModel",
      "_view_count": null,
      "_view_module": "@jupyter-widgets/controls",
      "_view_module_version": "1.5.0",
      "_view_name": "HBoxView",
      "box_style": "",
      "children": [
       "IPY_MODEL_c25d65df1f8a404a839c5872a35ac25d",
       "IPY_MODEL_5e05d7cc377a4e2c854ab198fafdd03e",
       "IPY_MODEL_5c859835429c4749866255f6a0d73575"
      ],
      "layout": "IPY_MODEL_5fe8d3de77d044febbb8991dc0959429"
     }
    },
    "3be18558717a4fd3836d31ca309a5a9c": {
     "model_module": "@jupyter-widgets/controls",
     "model_module_version": "1.5.0",
     "model_name": "DescriptionStyleModel",
     "state": {
      "_model_module": "@jupyter-widgets/controls",
      "_model_module_version": "1.5.0",
      "_model_name": "DescriptionStyleModel",
      "_view_count": null,
      "_view_module": "@jupyter-widgets/base",
      "_view_module_version": "1.2.0",
      "_view_name": "StyleView",
      "description_width": ""
     }
    },
    "3cf5de22a88f49e69f31c46b6fb41977": {
     "model_module": "@jupyter-widgets/controls",
     "model_module_version": "1.5.0",
     "model_name": "HTMLModel",
     "state": {
      "_dom_classes": [],
      "_model_module": "@jupyter-widgets/controls",
      "_model_module_version": "1.5.0",
      "_model_name": "HTMLModel",
      "_view_count": null,
      "_view_module": "@jupyter-widgets/controls",
      "_view_module_version": "1.5.0",
      "_view_name": "HTMLView",
      "description": "",
      "description_tooltip": null,
      "layout": "IPY_MODEL_ee0bdee7097f4ee09843b4d473cc0a9b",
      "placeholder": "​",
      "style": "IPY_MODEL_3050112b56214c41a3cc493ad8b40aad",
      "value": "Map: 100%"
     }
    },
    "4406269da17745e6a862bb076cf6b19d": {
     "model_module": "@jupyter-widgets/controls",
     "model_module_version": "1.5.0",
     "model_name": "HTMLModel",
     "state": {
      "_dom_classes": [],
      "_model_module": "@jupyter-widgets/controls",
      "_model_module_version": "1.5.0",
      "_model_name": "HTMLModel",
      "_view_count": null,
      "_view_module": "@jupyter-widgets/controls",
      "_view_module_version": "1.5.0",
      "_view_name": "HTMLView",
      "description": "",
      "description_tooltip": null,
      "layout": "IPY_MODEL_e9be95cc26fa4ab99326acf02ff2b909",
      "placeholder": "​",
      "style": "IPY_MODEL_3be18558717a4fd3836d31ca309a5a9c",
      "value": "(…)ase/resolve/main/sentencepiece.bpe.model: 100%"
     }
    },
    "467ee4f7537d4ea18557e5beaf436125": {
     "model_module": "@jupyter-widgets/base",
     "model_module_version": "1.2.0",
     "model_name": "LayoutModel",
     "state": {
      "_model_module": "@jupyter-widgets/base",
      "_model_module_version": "1.2.0",
      "_model_name": "LayoutModel",
      "_view_count": null,
      "_view_module": "@jupyter-widgets/base",
      "_view_module_version": "1.2.0",
      "_view_name": "LayoutView",
      "align_content": null,
      "align_items": null,
      "align_self": null,
      "border": null,
      "bottom": null,
      "display": null,
      "flex": null,
      "flex_flow": null,
      "grid_area": null,
      "grid_auto_columns": null,
      "grid_auto_flow": null,
      "grid_auto_rows": null,
      "grid_column": null,
      "grid_gap": null,
      "grid_row": null,
      "grid_template_areas": null,
      "grid_template_columns": null,
      "grid_template_rows": null,
      "height": null,
      "justify_content": null,
      "justify_items": null,
      "left": null,
      "margin": null,
      "max_height": null,
      "max_width": null,
      "min_height": null,
      "min_width": null,
      "object_fit": null,
      "object_position": null,
      "order": null,
      "overflow": null,
      "overflow_x": null,
      "overflow_y": null,
      "padding": null,
      "right": null,
      "top": null,
      "visibility": null,
      "width": null
     }
    },
    "468edb12bd444a8da3208c02ad12b616": {
     "model_module": "@jupyter-widgets/controls",
     "model_module_version": "1.5.0",
     "model_name": "ProgressStyleModel",
     "state": {
      "_model_module": "@jupyter-widgets/controls",
      "_model_module_version": "1.5.0",
      "_model_name": "ProgressStyleModel",
      "_view_count": null,
      "_view_module": "@jupyter-widgets/base",
      "_view_module_version": "1.2.0",
      "_view_name": "StyleView",
      "bar_color": null,
      "description_width": ""
     }
    },
    "49af6dd20e5144769ec8a78f38e40365": {
     "model_module": "@jupyter-widgets/controls",
     "model_module_version": "1.5.0",
     "model_name": "DescriptionStyleModel",
     "state": {
      "_model_module": "@jupyter-widgets/controls",
      "_model_module_version": "1.5.0",
      "_model_name": "DescriptionStyleModel",
      "_view_count": null,
      "_view_module": "@jupyter-widgets/base",
      "_view_module_version": "1.2.0",
      "_view_name": "StyleView",
      "description_width": ""
     }
    },
    "4d5c326671b64bc081673541a3f00170": {
     "model_module": "@jupyter-widgets/base",
     "model_module_version": "1.2.0",
     "model_name": "LayoutModel",
     "state": {
      "_model_module": "@jupyter-widgets/base",
      "_model_module_version": "1.2.0",
      "_model_name": "LayoutModel",
      "_view_count": null,
      "_view_module": "@jupyter-widgets/base",
      "_view_module_version": "1.2.0",
      "_view_name": "LayoutView",
      "align_content": null,
      "align_items": null,
      "align_self": null,
      "border": null,
      "bottom": null,
      "display": null,
      "flex": null,
      "flex_flow": null,
      "grid_area": null,
      "grid_auto_columns": null,
      "grid_auto_flow": null,
      "grid_auto_rows": null,
      "grid_column": null,
      "grid_gap": null,
      "grid_row": null,
      "grid_template_areas": null,
      "grid_template_columns": null,
      "grid_template_rows": null,
      "height": null,
      "justify_content": null,
      "justify_items": null,
      "left": null,
      "margin": null,
      "max_height": null,
      "max_width": null,
      "min_height": null,
      "min_width": null,
      "object_fit": null,
      "object_position": null,
      "order": null,
      "overflow": null,
      "overflow_x": null,
      "overflow_y": null,
      "padding": null,
      "right": null,
      "top": null,
      "visibility": null,
      "width": null
     }
    },
    "525764c2a9954a22aab7d12bd4c2bf15": {
     "model_module": "@jupyter-widgets/base",
     "model_module_version": "1.2.0",
     "model_name": "LayoutModel",
     "state": {
      "_model_module": "@jupyter-widgets/base",
      "_model_module_version": "1.2.0",
      "_model_name": "LayoutModel",
      "_view_count": null,
      "_view_module": "@jupyter-widgets/base",
      "_view_module_version": "1.2.0",
      "_view_name": "LayoutView",
      "align_content": null,
      "align_items": null,
      "align_self": null,
      "border": null,
      "bottom": null,
      "display": null,
      "flex": null,
      "flex_flow": null,
      "grid_area": null,
      "grid_auto_columns": null,
      "grid_auto_flow": null,
      "grid_auto_rows": null,
      "grid_column": null,
      "grid_gap": null,
      "grid_row": null,
      "grid_template_areas": null,
      "grid_template_columns": null,
      "grid_template_rows": null,
      "height": null,
      "justify_content": null,
      "justify_items": null,
      "left": null,
      "margin": null,
      "max_height": null,
      "max_width": null,
      "min_height": null,
      "min_width": null,
      "object_fit": null,
      "object_position": null,
      "order": null,
      "overflow": null,
      "overflow_x": null,
      "overflow_y": null,
      "padding": null,
      "right": null,
      "top": null,
      "visibility": null,
      "width": null
     }
    },
    "5c859835429c4749866255f6a0d73575": {
     "model_module": "@jupyter-widgets/controls",
     "model_module_version": "1.5.0",
     "model_name": "HTMLModel",
     "state": {
      "_dom_classes": [],
      "_model_module": "@jupyter-widgets/controls",
      "_model_module_version": "1.5.0",
      "_model_name": "HTMLModel",
      "_view_count": null,
      "_view_module": "@jupyter-widgets/controls",
      "_view_module_version": "1.5.0",
      "_view_name": "HTMLView",
      "description": "",
      "description_tooltip": null,
      "layout": "IPY_MODEL_4d5c326671b64bc081673541a3f00170",
      "placeholder": "​",
      "style": "IPY_MODEL_c52b888921f54c849335b62aae2f6ac5",
      "value": " 1702/1702 [00:00&lt;00:00, 2256.00 examples/s]"
     }
    },
    "5e05d7cc377a4e2c854ab198fafdd03e": {
     "model_module": "@jupyter-widgets/controls",
     "model_module_version": "1.5.0",
     "model_name": "FloatProgressModel",
     "state": {
      "_dom_classes": [],
      "_model_module": "@jupyter-widgets/controls",
      "_model_module_version": "1.5.0",
      "_model_name": "FloatProgressModel",
      "_view_count": null,
      "_view_module": "@jupyter-widgets/controls",
      "_view_module_version": "1.5.0",
      "_view_name": "ProgressView",
      "bar_style": "success",
      "description": "",
      "description_tooltip": null,
      "layout": "IPY_MODEL_fac24d9e9c5848daa5810ae20add58c1",
      "max": 1702,
      "min": 0,
      "orientation": "horizontal",
      "style": "IPY_MODEL_03520b7a03654fc2a194b274659a8f9f",
      "value": 1702
     }
    },
    "5fe8d3de77d044febbb8991dc0959429": {
     "model_module": "@jupyter-widgets/base",
     "model_module_version": "1.2.0",
     "model_name": "LayoutModel",
     "state": {
      "_model_module": "@jupyter-widgets/base",
      "_model_module_version": "1.2.0",
      "_model_name": "LayoutModel",
      "_view_count": null,
      "_view_module": "@jupyter-widgets/base",
      "_view_module_version": "1.2.0",
      "_view_name": "LayoutView",
      "align_content": null,
      "align_items": null,
      "align_self": null,
      "border": null,
      "bottom": null,
      "display": null,
      "flex": null,
      "flex_flow": null,
      "grid_area": null,
      "grid_auto_columns": null,
      "grid_auto_flow": null,
      "grid_auto_rows": null,
      "grid_column": null,
      "grid_gap": null,
      "grid_row": null,
      "grid_template_areas": null,
      "grid_template_columns": null,
      "grid_template_rows": null,
      "height": null,
      "justify_content": null,
      "justify_items": null,
      "left": null,
      "margin": null,
      "max_height": null,
      "max_width": null,
      "min_height": null,
      "min_width": null,
      "object_fit": null,
      "object_position": null,
      "order": null,
      "overflow": null,
      "overflow_x": null,
      "overflow_y": null,
      "padding": null,
      "right": null,
      "top": null,
      "visibility": null,
      "width": null
     }
    },
    "63cb43eed0db445e92a57bab166f0132": {
     "model_module": "@jupyter-widgets/base",
     "model_module_version": "1.2.0",
     "model_name": "LayoutModel",
     "state": {
      "_model_module": "@jupyter-widgets/base",
      "_model_module_version": "1.2.0",
      "_model_name": "LayoutModel",
      "_view_count": null,
      "_view_module": "@jupyter-widgets/base",
      "_view_module_version": "1.2.0",
      "_view_name": "LayoutView",
      "align_content": null,
      "align_items": null,
      "align_self": null,
      "border": null,
      "bottom": null,
      "display": null,
      "flex": null,
      "flex_flow": null,
      "grid_area": null,
      "grid_auto_columns": null,
      "grid_auto_flow": null,
      "grid_auto_rows": null,
      "grid_column": null,
      "grid_gap": null,
      "grid_row": null,
      "grid_template_areas": null,
      "grid_template_columns": null,
      "grid_template_rows": null,
      "height": null,
      "justify_content": null,
      "justify_items": null,
      "left": null,
      "margin": null,
      "max_height": null,
      "max_width": null,
      "min_height": null,
      "min_width": null,
      "object_fit": null,
      "object_position": null,
      "order": null,
      "overflow": null,
      "overflow_x": null,
      "overflow_y": null,
      "padding": null,
      "right": null,
      "top": null,
      "visibility": null,
      "width": null
     }
    },
    "66d5d8927bdd45449287313a9e3d77de": {
     "model_module": "@jupyter-widgets/controls",
     "model_module_version": "1.5.0",
     "model_name": "FloatProgressModel",
     "state": {
      "_dom_classes": [],
      "_model_module": "@jupyter-widgets/controls",
      "_model_module_version": "1.5.0",
      "_model_name": "FloatProgressModel",
      "_view_count": null,
      "_view_module": "@jupyter-widgets/controls",
      "_view_module_version": "1.5.0",
      "_view_name": "ProgressView",
      "bar_style": "success",
      "description": "",
      "description_tooltip": null,
      "layout": "IPY_MODEL_0ff5245a26804d5c951980096aac9fca",
      "max": 1395301,
      "min": 0,
      "orientation": "horizontal",
      "style": "IPY_MODEL_fee94ef7ea45486b84ac7ce16fc7d9e2",
      "value": 1395301
     }
    },
    "79d88ebc12224cc89eca510ed7fc3617": {
     "model_module": "@jupyter-widgets/base",
     "model_module_version": "1.2.0",
     "model_name": "LayoutModel",
     "state": {
      "_model_module": "@jupyter-widgets/base",
      "_model_module_version": "1.2.0",
      "_model_name": "LayoutModel",
      "_view_count": null,
      "_view_module": "@jupyter-widgets/base",
      "_view_module_version": "1.2.0",
      "_view_name": "LayoutView",
      "align_content": null,
      "align_items": null,
      "align_self": null,
      "border": null,
      "bottom": null,
      "display": null,
      "flex": null,
      "flex_flow": null,
      "grid_area": null,
      "grid_auto_columns": null,
      "grid_auto_flow": null,
      "grid_auto_rows": null,
      "grid_column": null,
      "grid_gap": null,
      "grid_row": null,
      "grid_template_areas": null,
      "grid_template_columns": null,
      "grid_template_rows": null,
      "height": null,
      "justify_content": null,
      "justify_items": null,
      "left": null,
      "margin": null,
      "max_height": null,
      "max_width": null,
      "min_height": null,
      "min_width": null,
      "object_fit": null,
      "object_position": null,
      "order": null,
      "overflow": null,
      "overflow_x": null,
      "overflow_y": null,
      "padding": null,
      "right": null,
      "top": null,
      "visibility": null,
      "width": null
     }
    },
    "7c01add9bf684044b9615f642ae28f4a": {
     "model_module": "@jupyter-widgets/controls",
     "model_module_version": "1.5.0",
     "model_name": "DescriptionStyleModel",
     "state": {
      "_model_module": "@jupyter-widgets/controls",
      "_model_module_version": "1.5.0",
      "_model_name": "DescriptionStyleModel",
      "_view_count": null,
      "_view_module": "@jupyter-widgets/base",
      "_view_module_version": "1.2.0",
      "_view_name": "StyleView",
      "description_width": ""
     }
    },
    "7ea6fb428f7f47adacb54dcdee64f0b1": {
     "model_module": "@jupyter-widgets/controls",
     "model_module_version": "1.5.0",
     "model_name": "FloatProgressModel",
     "state": {
      "_dom_classes": [],
      "_model_module": "@jupyter-widgets/controls",
      "_model_module_version": "1.5.0",
      "_model_name": "FloatProgressModel",
      "_view_count": null,
      "_view_module": "@jupyter-widgets/controls",
      "_view_module_version": "1.5.0",
      "_view_name": "ProgressView",
      "bar_style": "success",
      "description": "",
      "description_tooltip": null,
      "layout": "IPY_MODEL_dcf225efb10248b8a6ae9ca04ded3eff",
      "max": 1702,
      "min": 0,
      "orientation": "horizontal",
      "style": "IPY_MODEL_e1b6b53aac884d8daedffdc4b3d1c4c0",
      "value": 1702
     }
    },
    "7ed14e7392124c4b9dd1bce859b839ee": {
     "model_module": "@jupyter-widgets/controls",
     "model_module_version": "1.5.0",
     "model_name": "DescriptionStyleModel",
     "state": {
      "_model_module": "@jupyter-widgets/controls",
      "_model_module_version": "1.5.0",
      "_model_name": "DescriptionStyleModel",
      "_view_count": null,
      "_view_module": "@jupyter-widgets/base",
      "_view_module_version": "1.2.0",
      "_view_name": "StyleView",
      "description_width": ""
     }
    },
    "81dd557a30ac41ee98d09a0d63aa5331": {
     "model_module": "@jupyter-widgets/controls",
     "model_module_version": "1.5.0",
     "model_name": "HBoxModel",
     "state": {
      "_dom_classes": [],
      "_model_module": "@jupyter-widgets/controls",
      "_model_module_version": "1.5.0",
      "_model_name": "HBoxModel",
      "_view_count": null,
      "_view_module": "@jupyter-widgets/controls",
      "_view_module_version": "1.5.0",
      "_view_name": "HBoxView",
      "box_style": "",
      "children": [
       "IPY_MODEL_29fdff2a2260418398c2d83703f118e9",
       "IPY_MODEL_7ea6fb428f7f47adacb54dcdee64f0b1",
       "IPY_MODEL_ab8f42ccdbcc4f0591106488f9047894"
      ],
      "layout": "IPY_MODEL_baa23277d6684068abaee8ca6216de08"
     }
    },
    "853e292a383f436290bd0601f13a558f": {
     "model_module": "@jupyter-widgets/base",
     "model_module_version": "1.2.0",
     "model_name": "LayoutModel",
     "state": {
      "_model_module": "@jupyter-widgets/base",
      "_model_module_version": "1.2.0",
      "_model_name": "LayoutModel",
      "_view_count": null,
      "_view_module": "@jupyter-widgets/base",
      "_view_module_version": "1.2.0",
      "_view_name": "LayoutView",
      "align_content": null,
      "align_items": null,
      "align_self": null,
      "border": null,
      "bottom": null,
      "display": null,
      "flex": null,
      "flex_flow": null,
      "grid_area": null,
      "grid_auto_columns": null,
      "grid_auto_flow": null,
      "grid_auto_rows": null,
      "grid_column": null,
      "grid_gap": null,
      "grid_row": null,
      "grid_template_areas": null,
      "grid_template_columns": null,
      "grid_template_rows": null,
      "height": null,
      "justify_content": null,
      "justify_items": null,
      "left": null,
      "margin": null,
      "max_height": null,
      "max_width": null,
      "min_height": null,
      "min_width": null,
      "object_fit": null,
      "object_position": null,
      "order": null,
      "overflow": null,
      "overflow_x": null,
      "overflow_y": null,
      "padding": null,
      "right": null,
      "top": null,
      "visibility": null,
      "width": null
     }
    },
    "86dfaa32de3345bfb6d7d75a6af2a193": {
     "model_module": "@jupyter-widgets/base",
     "model_module_version": "1.2.0",
     "model_name": "LayoutModel",
     "state": {
      "_model_module": "@jupyter-widgets/base",
      "_model_module_version": "1.2.0",
      "_model_name": "LayoutModel",
      "_view_count": null,
      "_view_module": "@jupyter-widgets/base",
      "_view_module_version": "1.2.0",
      "_view_name": "LayoutView",
      "align_content": null,
      "align_items": null,
      "align_self": null,
      "border": null,
      "bottom": null,
      "display": null,
      "flex": null,
      "flex_flow": null,
      "grid_area": null,
      "grid_auto_columns": null,
      "grid_auto_flow": null,
      "grid_auto_rows": null,
      "grid_column": null,
      "grid_gap": null,
      "grid_row": null,
      "grid_template_areas": null,
      "grid_template_columns": null,
      "grid_template_rows": null,
      "height": null,
      "justify_content": null,
      "justify_items": null,
      "left": null,
      "margin": null,
      "max_height": null,
      "max_width": null,
      "min_height": null,
      "min_width": null,
      "object_fit": null,
      "object_position": null,
      "order": null,
      "overflow": null,
      "overflow_x": null,
      "overflow_y": null,
      "padding": null,
      "right": null,
      "top": null,
      "visibility": null,
      "width": null
     }
    },
    "876aa9be29d649b688a9288180c523fb": {
     "model_module": "@jupyter-widgets/controls",
     "model_module_version": "1.5.0",
     "model_name": "HBoxModel",
     "state": {
      "_dom_classes": [],
      "_model_module": "@jupyter-widgets/controls",
      "_model_module_version": "1.5.0",
      "_model_name": "HBoxModel",
      "_view_count": null,
      "_view_module": "@jupyter-widgets/controls",
      "_view_module_version": "1.5.0",
      "_view_name": "HBoxView",
      "box_style": "",
      "children": [
       "IPY_MODEL_1407b44757b94dedbd3b51dd36375ad0",
       "IPY_MODEL_66d5d8927bdd45449287313a9e3d77de",
       "IPY_MODEL_f9cce8e5f8e346c4baaddfd2ffdd3fa3"
      ],
      "layout": "IPY_MODEL_853e292a383f436290bd0601f13a558f"
     }
    },
    "888263c1425e4ae0bcf1750ed633a946": {
     "model_module": "@jupyter-widgets/controls",
     "model_module_version": "1.5.0",
     "model_name": "DescriptionStyleModel",
     "state": {
      "_model_module": "@jupyter-widgets/controls",
      "_model_module_version": "1.5.0",
      "_model_name": "DescriptionStyleModel",
      "_view_count": null,
      "_view_module": "@jupyter-widgets/base",
      "_view_module_version": "1.2.0",
      "_view_name": "StyleView",
      "description_width": ""
     }
    },
    "8c3d333944f84bac8361bfeb337cf5f7": {
     "model_module": "@jupyter-widgets/controls",
     "model_module_version": "1.5.0",
     "model_name": "FloatProgressModel",
     "state": {
      "_dom_classes": [],
      "_model_module": "@jupyter-widgets/controls",
      "_model_module_version": "1.5.0",
      "_model_name": "FloatProgressModel",
      "_view_count": null,
      "_view_module": "@jupyter-widgets/controls",
      "_view_module_version": "1.5.0",
      "_view_name": "ProgressView",
      "bar_style": "success",
      "description": "",
      "description_tooltip": null,
      "layout": "IPY_MODEL_16c9a1e8b0e8441880d96120f5ddd691",
      "max": 810912,
      "min": 0,
      "orientation": "horizontal",
      "style": "IPY_MODEL_468edb12bd444a8da3208c02ad12b616",
      "value": 810912
     }
    },
    "8d6115490d5c4b15a650c4edc49706f7": {
     "model_module": "@jupyter-widgets/base",
     "model_module_version": "1.2.0",
     "model_name": "LayoutModel",
     "state": {
      "_model_module": "@jupyter-widgets/base",
      "_model_module_version": "1.2.0",
      "_model_name": "LayoutModel",
      "_view_count": null,
      "_view_module": "@jupyter-widgets/base",
      "_view_module_version": "1.2.0",
      "_view_name": "LayoutView",
      "align_content": null,
      "align_items": null,
      "align_self": null,
      "border": null,
      "bottom": null,
      "display": null,
      "flex": null,
      "flex_flow": null,
      "grid_area": null,
      "grid_auto_columns": null,
      "grid_auto_flow": null,
      "grid_auto_rows": null,
      "grid_column": null,
      "grid_gap": null,
      "grid_row": null,
      "grid_template_areas": null,
      "grid_template_columns": null,
      "grid_template_rows": null,
      "height": null,
      "justify_content": null,
      "justify_items": null,
      "left": null,
      "margin": null,
      "max_height": null,
      "max_width": null,
      "min_height": null,
      "min_width": null,
      "object_fit": null,
      "object_position": null,
      "order": null,
      "overflow": null,
      "overflow_x": null,
      "overflow_y": null,
      "padding": null,
      "right": null,
      "top": null,
      "visibility": null,
      "width": null
     }
    },
    "9ae41f9b91484878b0fc923d5a738884": {
     "model_module": "@jupyter-widgets/base",
     "model_module_version": "1.2.0",
     "model_name": "LayoutModel",
     "state": {
      "_model_module": "@jupyter-widgets/base",
      "_model_module_version": "1.2.0",
      "_model_name": "LayoutModel",
      "_view_count": null,
      "_view_module": "@jupyter-widgets/base",
      "_view_module_version": "1.2.0",
      "_view_name": "LayoutView",
      "align_content": null,
      "align_items": null,
      "align_self": null,
      "border": null,
      "bottom": null,
      "display": null,
      "flex": null,
      "flex_flow": null,
      "grid_area": null,
      "grid_auto_columns": null,
      "grid_auto_flow": null,
      "grid_auto_rows": null,
      "grid_column": null,
      "grid_gap": null,
      "grid_row": null,
      "grid_template_areas": null,
      "grid_template_columns": null,
      "grid_template_rows": null,
      "height": null,
      "justify_content": null,
      "justify_items": null,
      "left": null,
      "margin": null,
      "max_height": null,
      "max_width": null,
      "min_height": null,
      "min_width": null,
      "object_fit": null,
      "object_position": null,
      "order": null,
      "overflow": null,
      "overflow_x": null,
      "overflow_y": null,
      "padding": null,
      "right": null,
      "top": null,
      "visibility": null,
      "width": null
     }
    },
    "9f0f3c578860463a863a4146a70cef61": {
     "model_module": "@jupyter-widgets/controls",
     "model_module_version": "1.5.0",
     "model_name": "DescriptionStyleModel",
     "state": {
      "_model_module": "@jupyter-widgets/controls",
      "_model_module_version": "1.5.0",
      "_model_name": "DescriptionStyleModel",
      "_view_count": null,
      "_view_module": "@jupyter-widgets/base",
      "_view_module_version": "1.2.0",
      "_view_name": "StyleView",
      "description_width": ""
     }
    },
    "a0a109f89ba14dce9fab2b650f26823e": {
     "model_module": "@jupyter-widgets/base",
     "model_module_version": "1.2.0",
     "model_name": "LayoutModel",
     "state": {
      "_model_module": "@jupyter-widgets/base",
      "_model_module_version": "1.2.0",
      "_model_name": "LayoutModel",
      "_view_count": null,
      "_view_module": "@jupyter-widgets/base",
      "_view_module_version": "1.2.0",
      "_view_name": "LayoutView",
      "align_content": null,
      "align_items": null,
      "align_self": null,
      "border": null,
      "bottom": null,
      "display": null,
      "flex": null,
      "flex_flow": null,
      "grid_area": null,
      "grid_auto_columns": null,
      "grid_auto_flow": null,
      "grid_auto_rows": null,
      "grid_column": null,
      "grid_gap": null,
      "grid_row": null,
      "grid_template_areas": null,
      "grid_template_columns": null,
      "grid_template_rows": null,
      "height": null,
      "justify_content": null,
      "justify_items": null,
      "left": null,
      "margin": null,
      "max_height": null,
      "max_width": null,
      "min_height": null,
      "min_width": null,
      "object_fit": null,
      "object_position": null,
      "order": null,
      "overflow": null,
      "overflow_x": null,
      "overflow_y": null,
      "padding": null,
      "right": null,
      "top": null,
      "visibility": null,
      "width": null
     }
    },
    "a2386e2492d6413cb3fff1d6c5e72c35": {
     "model_module": "@jupyter-widgets/base",
     "model_module_version": "1.2.0",
     "model_name": "LayoutModel",
     "state": {
      "_model_module": "@jupyter-widgets/base",
      "_model_module_version": "1.2.0",
      "_model_name": "LayoutModel",
      "_view_count": null,
      "_view_module": "@jupyter-widgets/base",
      "_view_module_version": "1.2.0",
      "_view_name": "LayoutView",
      "align_content": null,
      "align_items": null,
      "align_self": null,
      "border": null,
      "bottom": null,
      "display": null,
      "flex": null,
      "flex_flow": null,
      "grid_area": null,
      "grid_auto_columns": null,
      "grid_auto_flow": null,
      "grid_auto_rows": null,
      "grid_column": null,
      "grid_gap": null,
      "grid_row": null,
      "grid_template_areas": null,
      "grid_template_columns": null,
      "grid_template_rows": null,
      "height": null,
      "justify_content": null,
      "justify_items": null,
      "left": null,
      "margin": null,
      "max_height": null,
      "max_width": null,
      "min_height": null,
      "min_width": null,
      "object_fit": null,
      "object_position": null,
      "order": null,
      "overflow": null,
      "overflow_x": null,
      "overflow_y": null,
      "padding": null,
      "right": null,
      "top": null,
      "visibility": null,
      "width": null
     }
    },
    "a89f890fe4674423aace8a9fcbcf22d0": {
     "model_module": "@jupyter-widgets/base",
     "model_module_version": "1.2.0",
     "model_name": "LayoutModel",
     "state": {
      "_model_module": "@jupyter-widgets/base",
      "_model_module_version": "1.2.0",
      "_model_name": "LayoutModel",
      "_view_count": null,
      "_view_module": "@jupyter-widgets/base",
      "_view_module_version": "1.2.0",
      "_view_name": "LayoutView",
      "align_content": null,
      "align_items": null,
      "align_self": null,
      "border": null,
      "bottom": null,
      "display": null,
      "flex": null,
      "flex_flow": null,
      "grid_area": null,
      "grid_auto_columns": null,
      "grid_auto_flow": null,
      "grid_auto_rows": null,
      "grid_column": null,
      "grid_gap": null,
      "grid_row": null,
      "grid_template_areas": null,
      "grid_template_columns": null,
      "grid_template_rows": null,
      "height": null,
      "justify_content": null,
      "justify_items": null,
      "left": null,
      "margin": null,
      "max_height": null,
      "max_width": null,
      "min_height": null,
      "min_width": null,
      "object_fit": null,
      "object_position": null,
      "order": null,
      "overflow": null,
      "overflow_x": null,
      "overflow_y": null,
      "padding": null,
      "right": null,
      "top": null,
      "visibility": null,
      "width": null
     }
    },
    "ab8f42ccdbcc4f0591106488f9047894": {
     "model_module": "@jupyter-widgets/controls",
     "model_module_version": "1.5.0",
     "model_name": "HTMLModel",
     "state": {
      "_dom_classes": [],
      "_model_module": "@jupyter-widgets/controls",
      "_model_module_version": "1.5.0",
      "_model_name": "HTMLModel",
      "_view_count": null,
      "_view_module": "@jupyter-widgets/controls",
      "_view_module_version": "1.5.0",
      "_view_name": "HTMLView",
      "description": "",
      "description_tooltip": null,
      "layout": "IPY_MODEL_c5687712cb0441df950c0fafb050ecb1",
      "placeholder": "​",
      "style": "IPY_MODEL_09ff619381b34ec2affb73cc3fe2a221",
      "value": " 1702/1702 [00:00&lt;00:00, 2266.61 examples/s]"
     }
    },
    "baa23277d6684068abaee8ca6216de08": {
     "model_module": "@jupyter-widgets/base",
     "model_module_version": "1.2.0",
     "model_name": "LayoutModel",
     "state": {
      "_model_module": "@jupyter-widgets/base",
      "_model_module_version": "1.2.0",
      "_model_name": "LayoutModel",
      "_view_count": null,
      "_view_module": "@jupyter-widgets/base",
      "_view_module_version": "1.2.0",
      "_view_name": "LayoutView",
      "align_content": null,
      "align_items": null,
      "align_self": null,
      "border": null,
      "bottom": null,
      "display": null,
      "flex": null,
      "flex_flow": null,
      "grid_area": null,
      "grid_auto_columns": null,
      "grid_auto_flow": null,
      "grid_auto_rows": null,
      "grid_column": null,
      "grid_gap": null,
      "grid_row": null,
      "grid_template_areas": null,
      "grid_template_columns": null,
      "grid_template_rows": null,
      "height": null,
      "justify_content": null,
      "justify_items": null,
      "left": null,
      "margin": null,
      "max_height": null,
      "max_width": null,
      "min_height": null,
      "min_width": null,
      "object_fit": null,
      "object_position": null,
      "order": null,
      "overflow": null,
      "overflow_x": null,
      "overflow_y": null,
      "padding": null,
      "right": null,
      "top": null,
      "visibility": null,
      "width": null
     }
    },
    "c0385e29eb6449e791827ebb88855837": {
     "model_module": "@jupyter-widgets/controls",
     "model_module_version": "1.5.0",
     "model_name": "ProgressStyleModel",
     "state": {
      "_model_module": "@jupyter-widgets/controls",
      "_model_module_version": "1.5.0",
      "_model_name": "ProgressStyleModel",
      "_view_count": null,
      "_view_module": "@jupyter-widgets/base",
      "_view_module_version": "1.2.0",
      "_view_name": "StyleView",
      "bar_color": null,
      "description_width": ""
     }
    },
    "c1a7ebf880754fe083682a7ebd87753a": {
     "model_module": "@jupyter-widgets/controls",
     "model_module_version": "1.5.0",
     "model_name": "DescriptionStyleModel",
     "state": {
      "_model_module": "@jupyter-widgets/controls",
      "_model_module_version": "1.5.0",
      "_model_name": "DescriptionStyleModel",
      "_view_count": null,
      "_view_module": "@jupyter-widgets/base",
      "_view_module_version": "1.2.0",
      "_view_name": "StyleView",
      "description_width": ""
     }
    },
    "c25d65df1f8a404a839c5872a35ac25d": {
     "model_module": "@jupyter-widgets/controls",
     "model_module_version": "1.5.0",
     "model_name": "HTMLModel",
     "state": {
      "_dom_classes": [],
      "_model_module": "@jupyter-widgets/controls",
      "_model_module_version": "1.5.0",
      "_model_name": "HTMLModel",
      "_view_count": null,
      "_view_module": "@jupyter-widgets/controls",
      "_view_module_version": "1.5.0",
      "_view_name": "HTMLView",
      "description": "",
      "description_tooltip": null,
      "layout": "IPY_MODEL_86dfaa32de3345bfb6d7d75a6af2a193",
      "placeholder": "​",
      "style": "IPY_MODEL_9f0f3c578860463a863a4146a70cef61",
      "value": "Map: 100%"
     }
    },
    "c25e84afa0ca4d70ae54df8c0350e4d9": {
     "model_module": "@jupyter-widgets/base",
     "model_module_version": "1.2.0",
     "model_name": "LayoutModel",
     "state": {
      "_model_module": "@jupyter-widgets/base",
      "_model_module_version": "1.2.0",
      "_model_name": "LayoutModel",
      "_view_count": null,
      "_view_module": "@jupyter-widgets/base",
      "_view_module_version": "1.2.0",
      "_view_name": "LayoutView",
      "align_content": null,
      "align_items": null,
      "align_self": null,
      "border": null,
      "bottom": null,
      "display": null,
      "flex": null,
      "flex_flow": null,
      "grid_area": null,
      "grid_auto_columns": null,
      "grid_auto_flow": null,
      "grid_auto_rows": null,
      "grid_column": null,
      "grid_gap": null,
      "grid_row": null,
      "grid_template_areas": null,
      "grid_template_columns": null,
      "grid_template_rows": null,
      "height": null,
      "justify_content": null,
      "justify_items": null,
      "left": null,
      "margin": null,
      "max_height": null,
      "max_width": null,
      "min_height": null,
      "min_width": null,
      "object_fit": null,
      "object_position": null,
      "order": null,
      "overflow": null,
      "overflow_x": null,
      "overflow_y": null,
      "padding": null,
      "right": null,
      "top": null,
      "visibility": null,
      "width": null
     }
    },
    "c29aed2720a04e34aaad1162a477c974": {
     "model_module": "@jupyter-widgets/controls",
     "model_module_version": "1.5.0",
     "model_name": "HBoxModel",
     "state": {
      "_dom_classes": [],
      "_model_module": "@jupyter-widgets/controls",
      "_model_module_version": "1.5.0",
      "_model_name": "HBoxModel",
      "_view_count": null,
      "_view_module": "@jupyter-widgets/controls",
      "_view_module_version": "1.5.0",
      "_view_name": "HBoxView",
      "box_style": "",
      "children": [
       "IPY_MODEL_e4f14d9d53e64189bdf43f6c963b5e5d",
       "IPY_MODEL_1711bb69d530443f9eaecdfe58ffd3be",
       "IPY_MODEL_c7c4cc06897a4249aed36e75fa218801"
      ],
      "layout": "IPY_MODEL_8d6115490d5c4b15a650c4edc49706f7"
     }
    },
    "c52b888921f54c849335b62aae2f6ac5": {
     "model_module": "@jupyter-widgets/controls",
     "model_module_version": "1.5.0",
     "model_name": "DescriptionStyleModel",
     "state": {
      "_model_module": "@jupyter-widgets/controls",
      "_model_module_version": "1.5.0",
      "_model_name": "DescriptionStyleModel",
      "_view_count": null,
      "_view_module": "@jupyter-widgets/base",
      "_view_module_version": "1.2.0",
      "_view_name": "StyleView",
      "description_width": ""
     }
    },
    "c5687712cb0441df950c0fafb050ecb1": {
     "model_module": "@jupyter-widgets/base",
     "model_module_version": "1.2.0",
     "model_name": "LayoutModel",
     "state": {
      "_model_module": "@jupyter-widgets/base",
      "_model_module_version": "1.2.0",
      "_model_name": "LayoutModel",
      "_view_count": null,
      "_view_module": "@jupyter-widgets/base",
      "_view_module_version": "1.2.0",
      "_view_name": "LayoutView",
      "align_content": null,
      "align_items": null,
      "align_self": null,
      "border": null,
      "bottom": null,
      "display": null,
      "flex": null,
      "flex_flow": null,
      "grid_area": null,
      "grid_auto_columns": null,
      "grid_auto_flow": null,
      "grid_auto_rows": null,
      "grid_column": null,
      "grid_gap": null,
      "grid_row": null,
      "grid_template_areas": null,
      "grid_template_columns": null,
      "grid_template_rows": null,
      "height": null,
      "justify_content": null,
      "justify_items": null,
      "left": null,
      "margin": null,
      "max_height": null,
      "max_width": null,
      "min_height": null,
      "min_width": null,
      "object_fit": null,
      "object_position": null,
      "order": null,
      "overflow": null,
      "overflow_x": null,
      "overflow_y": null,
      "padding": null,
      "right": null,
      "top": null,
      "visibility": null,
      "width": null
     }
    },
    "c7c4cc06897a4249aed36e75fa218801": {
     "model_module": "@jupyter-widgets/controls",
     "model_module_version": "1.5.0",
     "model_name": "HTMLModel",
     "state": {
      "_dom_classes": [],
      "_model_module": "@jupyter-widgets/controls",
      "_model_module_version": "1.5.0",
      "_model_name": "HTMLModel",
      "_view_count": null,
      "_view_module": "@jupyter-widgets/controls",
      "_view_module_version": "1.5.0",
      "_view_name": "HTMLView",
      "description": "",
      "description_tooltip": null,
      "layout": "IPY_MODEL_a0a109f89ba14dce9fab2b650f26823e",
      "placeholder": "​",
      "style": "IPY_MODEL_49af6dd20e5144769ec8a78f38e40365",
      "value": " 508/508 [00:00&lt;00:00, 19.1kB/s]"
     }
    },
    "d61c9147467c4922a4791962797232eb": {
     "model_module": "@jupyter-widgets/base",
     "model_module_version": "1.2.0",
     "model_name": "LayoutModel",
     "state": {
      "_model_module": "@jupyter-widgets/base",
      "_model_module_version": "1.2.0",
      "_model_name": "LayoutModel",
      "_view_count": null,
      "_view_module": "@jupyter-widgets/base",
      "_view_module_version": "1.2.0",
      "_view_name": "LayoutView",
      "align_content": null,
      "align_items": null,
      "align_self": null,
      "border": null,
      "bottom": null,
      "display": null,
      "flex": null,
      "flex_flow": null,
      "grid_area": null,
      "grid_auto_columns": null,
      "grid_auto_flow": null,
      "grid_auto_rows": null,
      "grid_column": null,
      "grid_gap": null,
      "grid_row": null,
      "grid_template_areas": null,
      "grid_template_columns": null,
      "grid_template_rows": null,
      "height": null,
      "justify_content": null,
      "justify_items": null,
      "left": null,
      "margin": null,
      "max_height": null,
      "max_width": null,
      "min_height": null,
      "min_width": null,
      "object_fit": null,
      "object_position": null,
      "order": null,
      "overflow": null,
      "overflow_x": null,
      "overflow_y": null,
      "padding": null,
      "right": null,
      "top": null,
      "visibility": null,
      "width": null
     }
    },
    "dcf225efb10248b8a6ae9ca04ded3eff": {
     "model_module": "@jupyter-widgets/base",
     "model_module_version": "1.2.0",
     "model_name": "LayoutModel",
     "state": {
      "_model_module": "@jupyter-widgets/base",
      "_model_module_version": "1.2.0",
      "_model_name": "LayoutModel",
      "_view_count": null,
      "_view_module": "@jupyter-widgets/base",
      "_view_module_version": "1.2.0",
      "_view_name": "LayoutView",
      "align_content": null,
      "align_items": null,
      "align_self": null,
      "border": null,
      "bottom": null,
      "display": null,
      "flex": null,
      "flex_flow": null,
      "grid_area": null,
      "grid_auto_columns": null,
      "grid_auto_flow": null,
      "grid_auto_rows": null,
      "grid_column": null,
      "grid_gap": null,
      "grid_row": null,
      "grid_template_areas": null,
      "grid_template_columns": null,
      "grid_template_rows": null,
      "height": null,
      "justify_content": null,
      "justify_items": null,
      "left": null,
      "margin": null,
      "max_height": null,
      "max_width": null,
      "min_height": null,
      "min_width": null,
      "object_fit": null,
      "object_position": null,
      "order": null,
      "overflow": null,
      "overflow_x": null,
      "overflow_y": null,
      "padding": null,
      "right": null,
      "top": null,
      "visibility": null,
      "width": null
     }
    },
    "e1b6b53aac884d8daedffdc4b3d1c4c0": {
     "model_module": "@jupyter-widgets/controls",
     "model_module_version": "1.5.0",
     "model_name": "ProgressStyleModel",
     "state": {
      "_model_module": "@jupyter-widgets/controls",
      "_model_module_version": "1.5.0",
      "_model_name": "ProgressStyleModel",
      "_view_count": null,
      "_view_module": "@jupyter-widgets/base",
      "_view_module_version": "1.2.0",
      "_view_name": "StyleView",
      "bar_color": null,
      "description_width": ""
     }
    },
    "e4f14d9d53e64189bdf43f6c963b5e5d": {
     "model_module": "@jupyter-widgets/controls",
     "model_module_version": "1.5.0",
     "model_name": "HTMLModel",
     "state": {
      "_dom_classes": [],
      "_model_module": "@jupyter-widgets/controls",
      "_model_module_version": "1.5.0",
      "_model_name": "HTMLModel",
      "_view_count": null,
      "_view_module": "@jupyter-widgets/controls",
      "_view_module_version": "1.5.0",
      "_view_name": "HTMLView",
      "description": "",
      "description_tooltip": null,
      "layout": "IPY_MODEL_a89f890fe4674423aace8a9fcbcf22d0",
      "placeholder": "​",
      "style": "IPY_MODEL_2cc9a7c825fe4dfabaa5987d5b2185ca",
      "value": "(…)/camembert-base/resolve/main/config.json: 100%"
     }
    },
    "e9be95cc26fa4ab99326acf02ff2b909": {
     "model_module": "@jupyter-widgets/base",
     "model_module_version": "1.2.0",
     "model_name": "LayoutModel",
     "state": {
      "_model_module": "@jupyter-widgets/base",
      "_model_module_version": "1.2.0",
      "_model_name": "LayoutModel",
      "_view_count": null,
      "_view_module": "@jupyter-widgets/base",
      "_view_module_version": "1.2.0",
      "_view_name": "LayoutView",
      "align_content": null,
      "align_items": null,
      "align_self": null,
      "border": null,
      "bottom": null,
      "display": null,
      "flex": null,
      "flex_flow": null,
      "grid_area": null,
      "grid_auto_columns": null,
      "grid_auto_flow": null,
      "grid_auto_rows": null,
      "grid_column": null,
      "grid_gap": null,
      "grid_row": null,
      "grid_template_areas": null,
      "grid_template_columns": null,
      "grid_template_rows": null,
      "height": null,
      "justify_content": null,
      "justify_items": null,
      "left": null,
      "margin": null,
      "max_height": null,
      "max_width": null,
      "min_height": null,
      "min_width": null,
      "object_fit": null,
      "object_position": null,
      "order": null,
      "overflow": null,
      "overflow_x": null,
      "overflow_y": null,
      "padding": null,
      "right": null,
      "top": null,
      "visibility": null,
      "width": null
     }
    },
    "ed3e11e4509d41508f164dc98d7f7ef9": {
     "model_module": "@jupyter-widgets/controls",
     "model_module_version": "1.5.0",
     "model_name": "HBoxModel",
     "state": {
      "_dom_classes": [],
      "_model_module": "@jupyter-widgets/controls",
      "_model_module_version": "1.5.0",
      "_model_name": "HBoxModel",
      "_view_count": null,
      "_view_module": "@jupyter-widgets/controls",
      "_view_module_version": "1.5.0",
      "_view_name": "HBoxView",
      "box_style": "",
      "children": [
       "IPY_MODEL_4406269da17745e6a862bb076cf6b19d",
       "IPY_MODEL_8c3d333944f84bac8361bfeb337cf5f7",
       "IPY_MODEL_28c85f274bd547118ec0dcfac70c91e6"
      ],
      "layout": "IPY_MODEL_c25e84afa0ca4d70ae54df8c0350e4d9"
     }
    },
    "ee0bdee7097f4ee09843b4d473cc0a9b": {
     "model_module": "@jupyter-widgets/base",
     "model_module_version": "1.2.0",
     "model_name": "LayoutModel",
     "state": {
      "_model_module": "@jupyter-widgets/base",
      "_model_module_version": "1.2.0",
      "_model_name": "LayoutModel",
      "_view_count": null,
      "_view_module": "@jupyter-widgets/base",
      "_view_module_version": "1.2.0",
      "_view_name": "LayoutView",
      "align_content": null,
      "align_items": null,
      "align_self": null,
      "border": null,
      "bottom": null,
      "display": null,
      "flex": null,
      "flex_flow": null,
      "grid_area": null,
      "grid_auto_columns": null,
      "grid_auto_flow": null,
      "grid_auto_rows": null,
      "grid_column": null,
      "grid_gap": null,
      "grid_row": null,
      "grid_template_areas": null,
      "grid_template_columns": null,
      "grid_template_rows": null,
      "height": null,
      "justify_content": null,
      "justify_items": null,
      "left": null,
      "margin": null,
      "max_height": null,
      "max_width": null,
      "min_height": null,
      "min_width": null,
      "object_fit": null,
      "object_position": null,
      "order": null,
      "overflow": null,
      "overflow_x": null,
      "overflow_y": null,
      "padding": null,
      "right": null,
      "top": null,
      "visibility": null,
      "width": null
     }
    },
    "f9cce8e5f8e346c4baaddfd2ffdd3fa3": {
     "model_module": "@jupyter-widgets/controls",
     "model_module_version": "1.5.0",
     "model_name": "HTMLModel",
     "state": {
      "_dom_classes": [],
      "_model_module": "@jupyter-widgets/controls",
      "_model_module_version": "1.5.0",
      "_model_name": "HTMLModel",
      "_view_count": null,
      "_view_module": "@jupyter-widgets/controls",
      "_view_module_version": "1.5.0",
      "_view_name": "HTMLView",
      "description": "",
      "description_tooltip": null,
      "layout": "IPY_MODEL_a2386e2492d6413cb3fff1d6c5e72c35",
      "placeholder": "​",
      "style": "IPY_MODEL_7ed14e7392124c4b9dd1bce859b839ee",
      "value": " 1.40M/1.40M [00:00&lt;00:00, 17.4MB/s]"
     }
    },
    "fac24d9e9c5848daa5810ae20add58c1": {
     "model_module": "@jupyter-widgets/base",
     "model_module_version": "1.2.0",
     "model_name": "LayoutModel",
     "state": {
      "_model_module": "@jupyter-widgets/base",
      "_model_module_version": "1.2.0",
      "_model_name": "LayoutModel",
      "_view_count": null,
      "_view_module": "@jupyter-widgets/base",
      "_view_module_version": "1.2.0",
      "_view_name": "LayoutView",
      "align_content": null,
      "align_items": null,
      "align_self": null,
      "border": null,
      "bottom": null,
      "display": null,
      "flex": null,
      "flex_flow": null,
      "grid_area": null,
      "grid_auto_columns": null,
      "grid_auto_flow": null,
      "grid_auto_rows": null,
      "grid_column": null,
      "grid_gap": null,
      "grid_row": null,
      "grid_template_areas": null,
      "grid_template_columns": null,
      "grid_template_rows": null,
      "height": null,
      "justify_content": null,
      "justify_items": null,
      "left": null,
      "margin": null,
      "max_height": null,
      "max_width": null,
      "min_height": null,
      "min_width": null,
      "object_fit": null,
      "object_position": null,
      "order": null,
      "overflow": null,
      "overflow_x": null,
      "overflow_y": null,
      "padding": null,
      "right": null,
      "top": null,
      "visibility": null,
      "width": null
     }
    },
    "fee94ef7ea45486b84ac7ce16fc7d9e2": {
     "model_module": "@jupyter-widgets/controls",
     "model_module_version": "1.5.0",
     "model_name": "ProgressStyleModel",
     "state": {
      "_model_module": "@jupyter-widgets/controls",
      "_model_module_version": "1.5.0",
      "_model_name": "ProgressStyleModel",
      "_view_count": null,
      "_view_module": "@jupyter-widgets/base",
      "_view_module_version": "1.2.0",
      "_view_name": "StyleView",
      "bar_color": null,
      "description_width": ""
     }
    },
    "ffaa7fa906e74fc598075f4f0bc31267": {
     "model_module": "@jupyter-widgets/controls",
     "model_module_version": "1.5.0",
     "model_name": "FloatProgressModel",
     "state": {
      "_dom_classes": [],
      "_model_module": "@jupyter-widgets/controls",
      "_model_module_version": "1.5.0",
      "_model_name": "FloatProgressModel",
      "_view_count": null,
      "_view_module": "@jupyter-widgets/controls",
      "_view_module_version": "1.5.0",
      "_view_name": "ProgressView",
      "bar_style": "success",
      "description": "",
      "description_tooltip": null,
      "layout": "IPY_MODEL_79d88ebc12224cc89eca510ed7fc3617",
      "max": 1048,
      "min": 0,
      "orientation": "horizontal",
      "style": "IPY_MODEL_2cfedc4e30a44161a2eed77b22449a51",
      "value": 1048
     }
    }
   }
  }
 },
 "nbformat": 4,
 "nbformat_minor": 4
}
